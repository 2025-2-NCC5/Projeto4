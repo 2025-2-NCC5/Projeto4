{
 "cells": [
  {
   "cell_type": "markdown",
   "id": "a2877a64",
   "metadata": {},
   "source": [
    "# Entrega 1 | Álgebra Linear, Vetores e Geometria Analítica\n",
    "**Disciplina:** Álgebra Linear  \n",
    "**Tema:** Representação de Dados de Pedidos em Matrizes e Operações Lineares  \n"
   ]
  },
  {
   "cell_type": "markdown",
   "id": "57b34197",
   "metadata": {},
   "source": [
    "## Introdução\n",
    "Neste relatório utilizamos dados reais de pedidos (arquivo `Order_semicolon.csv`) provenientes do kit de dados fornecido pela Cannoli. Utilizaremos apenas o arquivo de pedidos pois ele já nos traz colunas numéricas contínuas, ideais para representar diretamente como vetores e matrizes, aplicando operaçoes de álgebra linear.\n",
    "\n",
    "Cada pedido possui atributos como:\n",
    "\n",
    "- **totalAmount**: valor total do pedido (R$)  \n",
    "- **preparationTime**: tempo de preparo (minutos)  \n",
    "- **takeOutTimeInSeconds**: tempo de retirada (segundos)  \n",
    "\n",
    "Cada linha será representada como um **vetor**, e o conjunto dos pedidos formará uma **matriz**.  \n",
    "Com isso, aplicamos operações de Álgebra Linear (transposição, soma de vetores e multiplicação de matrizes)."
   ]
  },
  {
   "cell_type": "markdown",
   "id": "17fd264d",
   "metadata": {},
   "source": [
    "### 1. Importação e visualização dos dados"
   ]
  },
  {
   "cell_type": "code",
   "execution_count": 1,
   "id": "50c2aacf",
   "metadata": {},
   "outputs": [
    {
     "name": "stdout",
     "output_type": "stream",
     "text": [
      "Primeiras linhas do arquivo de pedidos:\n"
     ]
    },
    {
     "data": {
      "text/html": [
       "<div>\n",
       "<style scoped>\n",
       "    .dataframe tbody tr th:only-of-type {\n",
       "        vertical-align: middle;\n",
       "    }\n",
       "\n",
       "    .dataframe tbody tr th {\n",
       "        vertical-align: top;\n",
       "    }\n",
       "\n",
       "    .dataframe thead th {\n",
       "        text-align: right;\n",
       "    }\n",
       "</style>\n",
       "<table border=\"1\" class=\"dataframe\">\n",
       "  <thead>\n",
       "    <tr style=\"text-align: right;\">\n",
       "      <th></th>\n",
       "      <th>id</th>\n",
       "      <th>companyId</th>\n",
       "      <th>containerId</th>\n",
       "      <th>createdAt</th>\n",
       "      <th>customer</th>\n",
       "      <th>displayId</th>\n",
       "      <th>engineId</th>\n",
       "      <th>engineName</th>\n",
       "      <th>engineType</th>\n",
       "      <th>extraInfo</th>\n",
       "      <th>...</th>\n",
       "      <th>orderTiming</th>\n",
       "      <th>orderType</th>\n",
       "      <th>salesChannel</th>\n",
       "      <th>scheduledAt</th>\n",
       "      <th>status</th>\n",
       "      <th>preparationTime</th>\n",
       "      <th>takeOutTimeInSeconds</th>\n",
       "      <th>totalAmount</th>\n",
       "      <th>updatedAt</th>\n",
       "      <th>version</th>\n",
       "    </tr>\n",
       "  </thead>\n",
       "  <tbody>\n",
       "    <tr>\n",
       "      <th>0</th>\n",
       "      <td>1</td>\n",
       "      <td>I0VP1DZXGU</td>\n",
       "      <td>AKVXT2FH</td>\n",
       "      <td>08/01/2025 15:47</td>\n",
       "      <td>525</td>\n",
       "      <td>O8CC98</td>\n",
       "      <td>E3R037</td>\n",
       "      <td>DirectOrder</td>\n",
       "      <td>POS</td>\n",
       "      <td>Adipisci maiores nam eius vero nesciunt sed.</td>\n",
       "      <td>...</td>\n",
       "      <td>IMMEDIATE</td>\n",
       "      <td>DELIVERY</td>\n",
       "      <td>ANOTAAI</td>\n",
       "      <td>NaN</td>\n",
       "      <td>DISPATCHED</td>\n",
       "      <td>45</td>\n",
       "      <td>2131</td>\n",
       "      <td>90.91</td>\n",
       "      <td>09/01/2025 03:32</td>\n",
       "      <td>v3.7.8</td>\n",
       "    </tr>\n",
       "    <tr>\n",
       "      <th>1</th>\n",
       "      <td>2</td>\n",
       "      <td>04MEUULZ6W</td>\n",
       "      <td>KKMY5TG5</td>\n",
       "      <td>03/11/2024 22:30</td>\n",
       "      <td>694</td>\n",
       "      <td>HJ99VA</td>\n",
       "      <td>EJVOBV</td>\n",
       "      <td>DirectOrder</td>\n",
       "      <td>APP</td>\n",
       "      <td>NaN</td>\n",
       "      <td>...</td>\n",
       "      <td>IMMEDIATE</td>\n",
       "      <td>DELIVERY</td>\n",
       "      <td>WHATSAPP</td>\n",
       "      <td>NaN</td>\n",
       "      <td>CONCLUDED</td>\n",
       "      <td>33</td>\n",
       "      <td>374</td>\n",
       "      <td>99.69</td>\n",
       "      <td>04/11/2024 03:05</td>\n",
       "      <td>v2.3.0</td>\n",
       "    </tr>\n",
       "    <tr>\n",
       "      <th>2</th>\n",
       "      <td>3</td>\n",
       "      <td>W2ZZS7CCZW</td>\n",
       "      <td>I87JLGTV</td>\n",
       "      <td>09/09/2024 05:49</td>\n",
       "      <td>491</td>\n",
       "      <td>XJJDH2</td>\n",
       "      <td>UDX1ZF</td>\n",
       "      <td>KDSPro</td>\n",
       "      <td>POS</td>\n",
       "      <td>NaN</td>\n",
       "      <td>...</td>\n",
       "      <td>IMMEDIATE</td>\n",
       "      <td>INDOOR</td>\n",
       "      <td>EPADOCA</td>\n",
       "      <td>NaN</td>\n",
       "      <td>CONCLUDED</td>\n",
       "      <td>22</td>\n",
       "      <td>247</td>\n",
       "      <td>45.97</td>\n",
       "      <td>09/09/2024 09:32</td>\n",
       "      <td>v1.9.5</td>\n",
       "    </tr>\n",
       "    <tr>\n",
       "      <th>3</th>\n",
       "      <td>4</td>\n",
       "      <td>SQ5MBL8L24</td>\n",
       "      <td>W3ZXOQHO</td>\n",
       "      <td>22/05/2025 06:22</td>\n",
       "      <td>846</td>\n",
       "      <td>J8QDM3</td>\n",
       "      <td>30FLOC</td>\n",
       "      <td>KDSPro</td>\n",
       "      <td>WEB</td>\n",
       "      <td>Autem mollitia voluptas quasi.</td>\n",
       "      <td>...</td>\n",
       "      <td>SCHEDULED</td>\n",
       "      <td>TAKEOUT</td>\n",
       "      <td>99FOOD</td>\n",
       "      <td>22/05/2025 14:22</td>\n",
       "      <td>CANCELED</td>\n",
       "      <td>35</td>\n",
       "      <td>1766</td>\n",
       "      <td>104.31</td>\n",
       "      <td>22/05/2025 21:39</td>\n",
       "      <td>v2.8.5</td>\n",
       "    </tr>\n",
       "    <tr>\n",
       "      <th>4</th>\n",
       "      <td>5</td>\n",
       "      <td>0RCNJ6BRJD</td>\n",
       "      <td>NA0C0FOS</td>\n",
       "      <td>22/02/2025 01:23</td>\n",
       "      <td>77</td>\n",
       "      <td>H4LV73</td>\n",
       "      <td>QI3URN</td>\n",
       "      <td>KDSPro</td>\n",
       "      <td>POS</td>\n",
       "      <td>NaN</td>\n",
       "      <td>...</td>\n",
       "      <td>SCHEDULED</td>\n",
       "      <td>DELIVERY</td>\n",
       "      <td>99FOOD</td>\n",
       "      <td>24/02/2025 11:23</td>\n",
       "      <td>DISPATCHED</td>\n",
       "      <td>20</td>\n",
       "      <td>1219</td>\n",
       "      <td>105.50</td>\n",
       "      <td>22/02/2025 13:53</td>\n",
       "      <td>v2.1.3</td>\n",
       "    </tr>\n",
       "  </tbody>\n",
       "</table>\n",
       "<p>5 rows × 23 columns</p>\n",
       "</div>"
      ],
      "text/plain": [
       "   id   companyId containerId         createdAt  customer displayId engineId  \\\n",
       "0   1  I0VP1DZXGU    AKVXT2FH  08/01/2025 15:47       525    O8CC98   E3R037   \n",
       "1   2  04MEUULZ6W    KKMY5TG5  03/11/2024 22:30       694    HJ99VA   EJVOBV   \n",
       "2   3  W2ZZS7CCZW    I87JLGTV  09/09/2024 05:49       491    XJJDH2   UDX1ZF   \n",
       "3   4  SQ5MBL8L24    W3ZXOQHO  22/05/2025 06:22       846    J8QDM3   30FLOC   \n",
       "4   5  0RCNJ6BRJD    NA0C0FOS  22/02/2025 01:23        77    H4LV73   QI3URN   \n",
       "\n",
       "    engineName engineType                                     extraInfo  ...  \\\n",
       "0  DirectOrder        POS  Adipisci maiores nam eius vero nesciunt sed.  ...   \n",
       "1  DirectOrder        APP                                           NaN  ...   \n",
       "2       KDSPro        POS                                           NaN  ...   \n",
       "3       KDSPro        WEB                Autem mollitia voluptas quasi.  ...   \n",
       "4       KDSPro        POS                                           NaN  ...   \n",
       "\n",
       "   orderTiming  orderType  salesChannel       scheduledAt      status  \\\n",
       "0    IMMEDIATE   DELIVERY       ANOTAAI               NaN  DISPATCHED   \n",
       "1    IMMEDIATE   DELIVERY      WHATSAPP               NaN   CONCLUDED   \n",
       "2    IMMEDIATE     INDOOR       EPADOCA               NaN   CONCLUDED   \n",
       "3    SCHEDULED    TAKEOUT        99FOOD  22/05/2025 14:22    CANCELED   \n",
       "4    SCHEDULED   DELIVERY        99FOOD  24/02/2025 11:23  DISPATCHED   \n",
       "\n",
       "  preparationTime takeOutTimeInSeconds totalAmount         updatedAt  version  \n",
       "0              45                 2131       90.91  09/01/2025 03:32   v3.7.8  \n",
       "1              33                  374       99.69  04/11/2024 03:05   v2.3.0  \n",
       "2              22                  247       45.97  09/09/2024 09:32   v1.9.5  \n",
       "3              35                 1766      104.31  22/05/2025 21:39   v2.8.5  \n",
       "4              20                 1219      105.50  22/02/2025 13:53   v2.1.3  \n",
       "\n",
       "[5 rows x 23 columns]"
      ]
     },
     "metadata": {},
     "output_type": "display_data"
    }
   ],
   "source": [
    "import pandas as pd\n",
    "import numpy as np\n",
    "\n",
    "# Ler os dados de pedidos\n",
    "df_orders = pd.read_csv(\"Order_semicolon.csv\", sep=\";\")\n",
    "\n",
    "print(\"Primeiras linhas do arquivo de pedidos:\")\n",
    "display(df_orders.head())"
   ]
  },
  {
   "cell_type": "markdown",
   "id": "db530b1e",
   "metadata": {},
   "source": [
    "### 2. Seleção de colunas para formar a matriz"
   ]
  },
  {
   "cell_type": "code",
   "execution_count": null,
   "id": "954ad8dd",
   "metadata": {},
   "outputs": [
    {
     "name": "stdout",
     "output_type": "stream",
     "text": [
      "\n",
      "Colunas utilizadas para análise vetorial: ['totalAmount', 'preparationTime', 'takeOutTimeInSeconds']\n",
      "\n",
      "Matriz de pedidos (NumPy array):\n",
      "[[  90.91   45.   2131.  ]\n",
      " [  99.69   33.    374.  ]\n",
      " [  45.97   22.    247.  ]\n",
      " ...\n",
      " [  66.56   23.   3162.  ]\n",
      " [  23.44   19.   2230.  ]\n",
      " [  30.13   78.   1861.  ]]\n"
     ]
    }
   ],
   "source": [
    "# Selecionar colunas de interesse\n",
    "colunas_interesse = [\"totalAmount\", \"preparationTime\", \"takeOutTimeInSeconds\"]\n",
    "colunas_existentes = [col for col in colunas_interesse if col in df_orders.columns]\n",
    "\n",
    "print(\"\\nColunas utilizadas para análise vetorial:\", colunas_existentes)\n",
    "\n",
    "# Criar matriz de dados com numpy\n",
    "matriz_pedidos = df_orders[colunas_existentes].dropna().to_numpy()\n",
    "\n",
    "print(\"\\nMatriz de pedidos (NumPy array):\")\n",
    "print(matriz_pedidos)"
   ]
  },
  {
   "cell_type": "markdown",
   "id": "91c44039",
   "metadata": {},
   "source": [
    "### 2.1. Representação em Vetores e Matrizes\n",
    "Exemplo da matriz formada:\n",
    "\n",
    "\\[\n",
    "\\begin{bmatrix}\n",
    "\\text{totalAmount}_1 & \\text{preparationTime}_1 & \\text{takeOutTimeInSeconds}_1 \\\\\n",
    "\\text{totalAmount}_2 & \\text{preparationTime}_2 & \\text{takeOutTimeInSeconds}_2 \\\\\n",
    "\\vdots & \\vdots & \\vdots\n",
    "\\end{bmatrix}\n",
    "\\]\n",
    "\n",
    "Cada linha representa um **pedido** (vetor).  \n",
    "Cada coluna representa uma **característica** (atributo)."
   ]
  },
  {
   "cell_type": "code",
   "execution_count": 3,
   "id": "4eda579c",
   "metadata": {},
   "outputs": [
    {
     "name": "stdout",
     "output_type": "stream",
     "text": [
      "\n",
      "Matriz Transposta:\n",
      "[[  90.91   99.69   45.97 ...   66.56   23.44   30.13]\n",
      " [  45.     33.     22.   ...   23.     19.     78.  ]\n",
      " [2131.    374.    247.   ... 3162.   2230.   1861.  ]]\n"
     ]
    }
   ],
   "source": [
    "# Transposição da matriz\n",
    "matriz_transposta = matriz_pedidos.T\n",
    "print(\"\\nMatriz Transposta:\")\n",
    "print(matriz_transposta)"
   ]
  },
  {
   "cell_type": "markdown",
   "id": "cf1f9b32",
   "metadata": {},
   "source": [
    "### 2.2. Transposição\n",
    "A transposição troca linhas por colunas:\n",
    "\n",
    "\\[\n",
    "\\begin{bmatrix}\n",
    "c_1 & c_2 & \\cdots \\\\\n",
    "c_3 & c_4 & \\cdots \\\\\n",
    "c_5 & c_6 & \\cdots\n",
    "\\end{bmatrix}\n",
    "\\]\n",
    "\n",
    "Assim conseguimos analisar **características** em vez de **pedidos**."
   ]
  },
  {
   "cell_type": "code",
   "execution_count": 4,
   "id": "45f0f91f",
   "metadata": {},
   "outputs": [
    {
     "name": "stdout",
     "output_type": "stream",
     "text": [
      "\n",
      "Soma do Pedido 1 e Pedido 2:\n",
      "[ 190.6   78.  2505. ]\n"
     ]
    }
   ],
   "source": [
    "# Soma de vetores (Pedido 1 + Pedido 2)\n",
    "if matriz_pedidos.shape[0] >= 2:\n",
    "    soma_vetores = matriz_pedidos[0] + matriz_pedidos[1]\n",
    "    print(\"\\nSoma do Pedido 1 e Pedido 2:\")\n",
    "    print(soma_vetores)"
   ]
  },
  {
   "cell_type": "markdown",
   "id": "30005c17",
   "metadata": {},
   "source": [
    "### 3. Multiplicação de Matrizes\n",
    "Definimos uma matriz de pesos:\n",
    "\n",
    "\\[\n",
    "W =\n",
    "\\begin{bmatrix}\n",
    "0.5 & 0.3 & 0.2 \\\\\n",
    "0.2 & 0.5 & 0.3\n",
    "\\end{bmatrix}\n",
    "\\]\n",
    "\n",
    "O resultado representa dois \"modelos\" diferentes avaliando os pedidos."
   ]
  },
  {
   "cell_type": "code",
   "execution_count": null,
   "id": "d47a3603",
   "metadata": {},
   "outputs": [
    {
     "name": "stdout",
     "output_type": "stream",
     "text": [
      "\n",
      "Multiplicação de matrizes (pesos x pedidos.T):\n",
      "[[485.155 134.545  78.985 ... 672.58  463.42  410.665]\n",
      " [679.982 148.638  94.294 ... 973.412 683.188 603.326]]\n"
     ]
    }
   ],
   "source": [
    "# Multiplicação de matrizes (pesos x dados)\n",
    "pesos = np.array([\n",
    "    [0.5, 0.3, 0.2],  \n",
    "    [0.2, 0.5, 0.3]  \n",
    "])\n",
    "\n",
    "resultado = np.dot(pesos, matriz_pedidos.T)\n",
    "print(\"\\nMultiplicação de matrizes (pesos x pedidos.T):\")\n",
    "print(resultado)"
   ]
  },
  {
   "cell_type": "markdown",
   "id": "0f8de613",
   "metadata": {},
   "source": [
    "## Conclusão\n",
    "Neste relatório, representamos dados de pedidos em forma de **matriz** e aplicamos operações \n",
    "fundamentais da Álgebra Linear:\n",
    "\n",
    "- **Transposição** → troca linhas por colunas.  \n",
    "- **Soma de vetores** → combina características de diferentes pedidos.  \n",
    "- **Multiplicação de matrizes** → aplica pesos diferentes às variáveis.  \n",
    "\n",
    "Essas operações são a base de técnicas em **Inteligência Artificial** e **Aprendizado de Máquina**, \n",
    "mostrando como dados do mundo real podem ser manipulados matematicamente para gerar conhecimento."
   ]
  }
 ],
 "metadata": {
  "kernelspec": {
   "display_name": "Python 3",
   "language": "python",
   "name": "python3"
  },
  "language_info": {
   "codemirror_mode": {
    "name": "ipython",
    "version": 3
   },
   "file_extension": ".py",
   "mimetype": "text/x-python",
   "name": "python",
   "nbconvert_exporter": "python",
   "pygments_lexer": "ipython3",
   "version": "3.10.2"
  }
 },
 "nbformat": 4,
 "nbformat_minor": 5
}
